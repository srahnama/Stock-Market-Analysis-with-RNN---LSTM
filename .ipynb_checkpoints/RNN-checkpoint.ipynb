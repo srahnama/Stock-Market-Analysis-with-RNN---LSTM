{
 "cells": [
  {
   "cell_type": "markdown",
   "metadata": {},
   "source": [
    "# 📊Stock Market Analysis 📈 + Prediction using LSTM\n",
    "## Building the RNN\n",
    "\n",
    "- Importing the Keras libraries and packages"
   ]
  },
  {
   "cell_type": "code",
   "execution_count": 1,
   "metadata": {},
   "outputs": [],
   "source": [
    "import numpy as np\n",
    "import matplotlib.pyplot as plt\n",
    "import pandas as pd\n",
    "import datetime\n",
    "\n",
    "from sklearn.preprocessing import MinMaxScaler\n",
    "\n",
    "from keras.models import Sequential\n",
    "from keras.layers import Dense, Normalization\n",
    "from keras.layers import LSTM\n",
    "from keras.layers import Dropout"
   ]
  },
  {
   "cell_type": "markdown",
   "metadata": {},
   "source": [
    "### Importing data"
   ]
  },
  {
   "cell_type": "code",
   "execution_count": 2,
   "metadata": {},
   "outputs": [],
   "source": [
    "training_set = pd.read_csv(\"train.csv\", index_col=\"Date\")"
   ]
  },
  {
   "cell_type": "code",
   "execution_count": 3,
   "metadata": {},
   "outputs": [
    {
     "data": {
      "text/html": [
       "<div>\n",
       "<style scoped>\n",
       "    .dataframe tbody tr th:only-of-type {\n",
       "        vertical-align: middle;\n",
       "    }\n",
       "\n",
       "    .dataframe tbody tr th {\n",
       "        vertical-align: top;\n",
       "    }\n",
       "\n",
       "    .dataframe thead th {\n",
       "        text-align: right;\n",
       "    }\n",
       "</style>\n",
       "<table border=\"1\" class=\"dataframe\">\n",
       "  <thead>\n",
       "    <tr style=\"text-align: right;\">\n",
       "      <th></th>\n",
       "      <th>Open</th>\n",
       "    </tr>\n",
       "    <tr>\n",
       "      <th>Date</th>\n",
       "      <th></th>\n",
       "    </tr>\n",
       "  </thead>\n",
       "  <tbody>\n",
       "    <tr>\n",
       "      <th>2012-01-03</th>\n",
       "      <td>325.25</td>\n",
       "    </tr>\n",
       "    <tr>\n",
       "      <th>2012-01-04</th>\n",
       "      <td>331.27</td>\n",
       "    </tr>\n",
       "    <tr>\n",
       "      <th>2012-01-05</th>\n",
       "      <td>329.83</td>\n",
       "    </tr>\n",
       "    <tr>\n",
       "      <th>2012-01-06</th>\n",
       "      <td>328.34</td>\n",
       "    </tr>\n",
       "    <tr>\n",
       "      <th>2012-01-09</th>\n",
       "      <td>322.04</td>\n",
       "    </tr>\n",
       "  </tbody>\n",
       "</table>\n",
       "</div>"
      ],
      "text/plain": [
       "              Open\n",
       "Date              \n",
       "2012-01-03  325.25\n",
       "2012-01-04  331.27\n",
       "2012-01-05  329.83\n",
       "2012-01-06  328.34\n",
       "2012-01-09  322.04"
      ]
     },
     "execution_count": 3,
     "metadata": {},
     "output_type": "execute_result"
    }
   ],
   "source": [
    "training_set.head()"
   ]
  },
  {
   "cell_type": "markdown",
   "metadata": {},
   "source": [
    "### Feature Scaling"
   ]
  },
  {
   "cell_type": "code",
   "execution_count": 4,
   "metadata": {},
   "outputs": [],
   "source": [
    "sc = MinMaxScaler(feature_range = (0, 1))\n",
    "training_set_scaled = sc.fit_transform(training_set)"
   ]
  },
  {
   "cell_type": "markdown",
   "metadata": {},
   "source": [
    "### Creating a data structure with 60 timesteps and 1 output for training and validatoin"
   ]
  },
  {
   "cell_type": "code",
   "execution_count": 5,
   "metadata": {},
   "outputs": [],
   "source": [
    "X_train = []\n",
    "y_train = []\n",
    "\n",
    "for i in range(60, 1000):\n",
    "    X_train.append(training_set_scaled[i-60:i, 0])\n",
    "    y_train.append(training_set_scaled[i, 0])\n",
    "    \n",
    "X_train, y_train = np.array(X_train), np.array(y_train)\n",
    "X_train = np.reshape(X_train, (X_train.shape[0], X_train.shape[1], 1))\n",
    "\n",
    "X_validation = []\n",
    "y_validation = []\n",
    "for i in range(1060, 1258):\n",
    "    X_validation.append(training_set_scaled[i-60:i, 0])\n",
    "    y_validation.append(training_set_scaled[i, 0])\n",
    "# Reshaping\n",
    "X_validation, y_validation = np.array(X_validation), np.array(y_validation)\n",
    "X_validation = np.reshape(X_validation, (X_validation.shape[0], X_validation.shape[1], 1))"
   ]
  },
  {
   "cell_type": "markdown",
   "metadata": {},
   "source": [
    "### Initialising the RNN"
   ]
  },
  {
   "cell_type": "code",
   "execution_count": 15,
   "metadata": {},
   "outputs": [],
   "source": [
    "regressor = Sequential([\n",
    "    # Adding the first LSTM layer and some Dropout regularisation\n",
    "    LSTM(units = 128, return_sequences = True, input_shape = (X_train.shape[1], 1)),\n",
    "    Dropout(0.2),\n",
    "\n",
    "    #Adding a second LSTM layer and some Dropout regularisation\n",
    "    LSTM(units = 64, return_sequences = True),\n",
    "    Dropout(0.2),\n",
    "\n",
    "#     # Adding a third LSTM layer and some Dropout regularisation\n",
    "#     LSTM(units = 50, return_sequences = True),\n",
    "#     Dropout(0.2),\n",
    "\n",
    "#     # Adding a third LSTM layer and some Dropout regularisation\n",
    "#     LSTM(units = 50, return_sequences = True),\n",
    "#     Dropout(0.2),\n",
    "    \n",
    "    # Adding a fourth LSTM layer and some Dropout regularisation\n",
    "    LSTM(units = 32),\n",
    "    Dropout(0.2),\n",
    "    \n",
    "#     Normalization(),\n",
    "\n",
    "    # Adding the output layer\n",
    "    Dense(units = 1),\n",
    "    \n",
    "])"
   ]
  },
  {
   "cell_type": "markdown",
   "metadata": {},
   "source": [
    "### Compiling the RNN"
   ]
  },
  {
   "cell_type": "code",
   "execution_count": 23,
   "metadata": {},
   "outputs": [
    {
     "name": "stdout",
     "output_type": "stream",
     "text": [
      "Model: \"sequential\"\n",
      "_________________________________________________________________\n",
      "Layer (type)                 Output Shape              Param #   \n",
      "=================================================================\n",
      "lstm (LSTM)                  (None, 60, 128)           66560     \n",
      "_________________________________________________________________\n",
      "dropout (Dropout)            (None, 60, 128)           0         \n",
      "_________________________________________________________________\n",
      "lstm_1 (LSTM)                (None, 60, 64)            49408     \n",
      "_________________________________________________________________\n",
      "dropout_1 (Dropout)          (None, 60, 64)            0         \n",
      "_________________________________________________________________\n",
      "lstm_2 (LSTM)                (None, 32)                12416     \n",
      "_________________________________________________________________\n",
      "dropout_2 (Dropout)          (None, 32)                0         \n",
      "_________________________________________________________________\n",
      "normalization (Normalization (None, 32)                65        \n",
      "_________________________________________________________________\n",
      "dense (Dense)                (None, 1)                 33        \n",
      "=================================================================\n",
      "Total params: 128,482\n",
      "Trainable params: 128,417\n",
      "Non-trainable params: 65\n",
      "_________________________________________________________________\n"
     ]
    }
   ],
   "source": [
    "regressor.compile(optimizer = 'adam', loss = 'mean_squared_error')\n",
    "regressor.summary()"
   ]
  },
  {
   "cell_type": "markdown",
   "metadata": {},
   "source": [
    "### Fitting the RNN to the Training set"
   ]
  },
  {
   "cell_type": "code",
   "execution_count": 16,
   "metadata": {},
   "outputs": [
    {
     "name": "stdout",
     "output_type": "stream",
     "text": [
      "Epoch 1/100\n",
      "30/30 [==============================] - 20s 64ms/step - loss: 0.0462 - val_loss: 0.0056\n",
      "Epoch 2/100\n",
      "30/30 [==============================] - 0s 15ms/step - loss: 0.0050 - val_loss: 0.0035\n",
      "Epoch 3/100\n",
      "30/30 [==============================] - 0s 15ms/step - loss: 0.0047 - val_loss: 0.0027\n",
      "Epoch 4/100\n",
      "30/30 [==============================] - 0s 14ms/step - loss: 0.0038 - val_loss: 0.0013\n",
      "Epoch 5/100\n",
      "30/30 [==============================] - 0s 14ms/step - loss: 0.0033 - val_loss: 0.0013\n",
      "Epoch 6/100\n",
      "30/30 [==============================] - 0s 14ms/step - loss: 0.0033 - val_loss: 0.0012\n",
      "Epoch 7/100\n",
      "30/30 [==============================] - 0s 13ms/step - loss: 0.0039 - val_loss: 0.0013\n",
      "Epoch 8/100\n",
      "30/30 [==============================] - 0s 13ms/step - loss: 0.0029 - val_loss: 0.0050\n",
      "Epoch 9/100\n",
      "30/30 [==============================] - 0s 13ms/step - loss: 0.0032 - val_loss: 0.0021\n",
      "Epoch 10/100\n",
      "30/30 [==============================] - 0s 13ms/step - loss: 0.0029 - val_loss: 0.0016\n",
      "Epoch 11/100\n",
      "30/30 [==============================] - 0s 13ms/step - loss: 0.0029 - val_loss: 0.0010\n",
      "Epoch 12/100\n",
      "30/30 [==============================] - 0s 12ms/step - loss: 0.0029 - val_loss: 0.0022\n",
      "Epoch 13/100\n",
      "30/30 [==============================] - 0s 13ms/step - loss: 0.0030 - val_loss: 0.0037\n",
      "Epoch 14/100\n",
      "30/30 [==============================] - 0s 12ms/step - loss: 0.0033 - val_loss: 0.0052\n",
      "Epoch 15/100\n",
      "30/30 [==============================] - 0s 13ms/step - loss: 0.0027 - val_loss: 0.0060\n",
      "Epoch 16/100\n",
      "30/30 [==============================] - 0s 13ms/step - loss: 0.0029 - val_loss: 0.0035\n",
      "Epoch 17/100\n",
      "30/30 [==============================] - 0s 13ms/step - loss: 0.0030 - val_loss: 0.0022\n",
      "Epoch 18/100\n",
      "30/30 [==============================] - 0s 13ms/step - loss: 0.0023 - val_loss: 0.0052\n",
      "Epoch 19/100\n",
      "30/30 [==============================] - 0s 12ms/step - loss: 0.0027 - val_loss: 8.9964e-04\n",
      "Epoch 20/100\n",
      "30/30 [==============================] - 0s 12ms/step - loss: 0.0024 - val_loss: 0.0013\n",
      "Epoch 21/100\n",
      "30/30 [==============================] - 0s 13ms/step - loss: 0.0027 - val_loss: 0.0035\n",
      "Epoch 22/100\n",
      "30/30 [==============================] - 0s 12ms/step - loss: 0.0026 - val_loss: 0.0019\n",
      "Epoch 23/100\n",
      "30/30 [==============================] - 0s 12ms/step - loss: 0.0026 - val_loss: 0.0016\n",
      "Epoch 24/100\n",
      "30/30 [==============================] - 0s 12ms/step - loss: 0.0021 - val_loss: 8.9403e-04\n",
      "Epoch 25/100\n",
      "30/30 [==============================] - 0s 12ms/step - loss: 0.0026 - val_loss: 0.0020\n",
      "Epoch 26/100\n",
      "30/30 [==============================] - 0s 13ms/step - loss: 0.0023 - val_loss: 0.0025\n",
      "Epoch 27/100\n",
      "30/30 [==============================] - 0s 14ms/step - loss: 0.0024 - val_loss: 0.0027\n",
      "Epoch 28/100\n",
      "30/30 [==============================] - 0s 13ms/step - loss: 0.0025 - val_loss: 8.9250e-04\n",
      "Epoch 29/100\n",
      "30/30 [==============================] - 0s 13ms/step - loss: 0.0021 - val_loss: 0.0012\n",
      "Epoch 30/100\n",
      "30/30 [==============================] - 0s 12ms/step - loss: 0.0021 - val_loss: 0.0013\n",
      "Epoch 31/100\n",
      "30/30 [==============================] - 0s 12ms/step - loss: 0.0022 - val_loss: 7.8949e-04\n",
      "Epoch 32/100\n",
      "30/30 [==============================] - 0s 12ms/step - loss: 0.0022 - val_loss: 7.8591e-04\n",
      "Epoch 33/100\n",
      "30/30 [==============================] - 0s 12ms/step - loss: 0.0020 - val_loss: 0.0020\n",
      "Epoch 34/100\n",
      "30/30 [==============================] - 0s 12ms/step - loss: 0.0019 - val_loss: 0.0036\n",
      "Epoch 35/100\n",
      "30/30 [==============================] - 0s 13ms/step - loss: 0.0020 - val_loss: 0.0012\n",
      "Epoch 36/100\n",
      "30/30 [==============================] - 0s 13ms/step - loss: 0.0020 - val_loss: 0.0011\n",
      "Epoch 37/100\n",
      "30/30 [==============================] - 0s 14ms/step - loss: 0.0018 - val_loss: 0.0025\n",
      "Epoch 38/100\n",
      "30/30 [==============================] - 0s 13ms/step - loss: 0.0020 - val_loss: 8.3904e-04\n",
      "Epoch 39/100\n",
      "30/30 [==============================] - 0s 12ms/step - loss: 0.0017 - val_loss: 6.7106e-04\n",
      "Epoch 40/100\n",
      "30/30 [==============================] - 0s 13ms/step - loss: 0.0020 - val_loss: 0.0014\n",
      "Epoch 41/100\n",
      "30/30 [==============================] - 0s 13ms/step - loss: 0.0017 - val_loss: 6.3319e-04\n",
      "Epoch 42/100\n",
      "30/30 [==============================] - 0s 12ms/step - loss: 0.0019 - val_loss: 0.0041\n",
      "Epoch 43/100\n",
      "30/30 [==============================] - 0s 12ms/step - loss: 0.0022 - val_loss: 0.0011\n",
      "Epoch 44/100\n",
      "30/30 [==============================] - 0s 12ms/step - loss: 0.0017 - val_loss: 9.7772e-04\n",
      "Epoch 45/100\n",
      "30/30 [==============================] - 0s 12ms/step - loss: 0.0020 - val_loss: 6.3899e-04\n",
      "Epoch 46/100\n",
      "30/30 [==============================] - 0s 12ms/step - loss: 0.0016 - val_loss: 0.0023\n",
      "Epoch 47/100\n",
      "30/30 [==============================] - 0s 13ms/step - loss: 0.0016 - val_loss: 6.6431e-04\n",
      "Epoch 48/100\n",
      "30/30 [==============================] - 0s 12ms/step - loss: 0.0017 - val_loss: 7.3800e-04\n",
      "Epoch 49/100\n",
      "30/30 [==============================] - 0s 13ms/step - loss: 0.0018 - val_loss: 5.5243e-04\n",
      "Epoch 50/100\n",
      "30/30 [==============================] - 0s 13ms/step - loss: 0.0016 - val_loss: 5.7186e-04\n",
      "Epoch 51/100\n",
      "30/30 [==============================] - 0s 14ms/step - loss: 0.0016 - val_loss: 6.4628e-04\n",
      "Epoch 52/100\n",
      "30/30 [==============================] - 0s 12ms/step - loss: 0.0014 - val_loss: 8.6310e-04\n",
      "Epoch 53/100\n",
      "30/30 [==============================] - 0s 13ms/step - loss: 0.0014 - val_loss: 6.7646e-04\n",
      "Epoch 54/100\n",
      "30/30 [==============================] - 0s 12ms/step - loss: 0.0014 - val_loss: 7.4376e-04\n",
      "Epoch 55/100\n",
      "30/30 [==============================] - 0s 12ms/step - loss: 0.0013 - val_loss: 8.3242e-04\n",
      "Epoch 56/100\n",
      "30/30 [==============================] - 0s 12ms/step - loss: 0.0015 - val_loss: 6.3213e-04\n",
      "Epoch 57/100\n",
      "30/30 [==============================] - 0s 12ms/step - loss: 0.0016 - val_loss: 5.1865e-04\n",
      "Epoch 58/100\n",
      "30/30 [==============================] - 0s 12ms/step - loss: 0.0015 - val_loss: 4.8177e-04\n",
      "Epoch 59/100\n",
      "30/30 [==============================] - 0s 12ms/step - loss: 0.0013 - val_loss: 4.7841e-04\n",
      "Epoch 60/100\n",
      "30/30 [==============================] - 0s 12ms/step - loss: 0.0012 - val_loss: 0.0012\n",
      "Epoch 61/100\n",
      "30/30 [==============================] - 0s 12ms/step - loss: 0.0015 - val_loss: 4.6277e-04\n",
      "Epoch 62/100\n",
      "30/30 [==============================] - 0s 12ms/step - loss: 0.0013 - val_loss: 0.0013\n",
      "Epoch 63/100\n",
      "30/30 [==============================] - 0s 12ms/step - loss: 0.0014 - val_loss: 5.2924e-04\n",
      "Epoch 64/100\n",
      "30/30 [==============================] - 0s 12ms/step - loss: 0.0014 - val_loss: 4.7098e-04\n",
      "Epoch 65/100\n",
      "30/30 [==============================] - 0s 12ms/step - loss: 0.0012 - val_loss: 6.3434e-04\n",
      "Epoch 66/100\n",
      "30/30 [==============================] - 0s 12ms/step - loss: 0.0013 - val_loss: 4.3823e-04\n",
      "Epoch 67/100\n",
      "30/30 [==============================] - 0s 12ms/step - loss: 0.0013 - val_loss: 0.0013\n",
      "Epoch 68/100\n",
      "30/30 [==============================] - 0s 12ms/step - loss: 0.0016 - val_loss: 9.9318e-04\n",
      "Epoch 69/100\n",
      "30/30 [==============================] - 0s 12ms/step - loss: 0.0014 - val_loss: 4.3420e-04\n",
      "Epoch 70/100\n",
      "30/30 [==============================] - 0s 12ms/step - loss: 0.0013 - val_loss: 5.8998e-04\n",
      "Epoch 71/100\n",
      "30/30 [==============================] - 0s 12ms/step - loss: 0.0013 - val_loss: 4.6862e-04\n",
      "Epoch 72/100\n",
      "30/30 [==============================] - 0s 12ms/step - loss: 0.0011 - val_loss: 4.3911e-04\n",
      "Epoch 73/100\n",
      "30/30 [==============================] - 0s 12ms/step - loss: 0.0012 - val_loss: 6.7172e-04\n",
      "Epoch 74/100\n",
      "30/30 [==============================] - 0s 12ms/step - loss: 0.0012 - val_loss: 8.4579e-04\n",
      "Epoch 75/100\n",
      "30/30 [==============================] - 0s 12ms/step - loss: 0.0013 - val_loss: 4.4889e-04\n",
      "Epoch 76/100\n",
      "30/30 [==============================] - 0s 12ms/step - loss: 0.0011 - val_loss: 0.0017\n",
      "Epoch 77/100\n",
      "30/30 [==============================] - 0s 13ms/step - loss: 0.0013 - val_loss: 6.6726e-04\n",
      "Epoch 78/100\n",
      "30/30 [==============================] - 0s 12ms/step - loss: 0.0012 - val_loss: 3.9079e-04\n",
      "Epoch 79/100\n",
      "30/30 [==============================] - 0s 12ms/step - loss: 0.0011 - val_loss: 4.1496e-04\n",
      "Epoch 80/100\n"
     ]
    },
    {
     "name": "stdout",
     "output_type": "stream",
     "text": [
      "30/30 [==============================] - 0s 12ms/step - loss: 9.9176e-04 - val_loss: 6.1310e-04\n",
      "Epoch 81/100\n",
      "30/30 [==============================] - 0s 12ms/step - loss: 0.0012 - val_loss: 4.6462e-04\n",
      "Epoch 82/100\n",
      "30/30 [==============================] - 0s 12ms/step - loss: 0.0011 - val_loss: 3.7982e-04\n",
      "Epoch 83/100\n",
      "30/30 [==============================] - 0s 12ms/step - loss: 0.0011 - val_loss: 0.0017\n",
      "Epoch 84/100\n",
      "30/30 [==============================] - 0s 12ms/step - loss: 0.0015 - val_loss: 3.8875e-04\n",
      "Epoch 85/100\n",
      "30/30 [==============================] - 0s 12ms/step - loss: 0.0013 - val_loss: 3.6929e-04\n",
      "Epoch 86/100\n",
      "30/30 [==============================] - 0s 12ms/step - loss: 9.7605e-04 - val_loss: 3.6660e-04\n",
      "Epoch 87/100\n",
      "30/30 [==============================] - 0s 12ms/step - loss: 0.0011 - val_loss: 4.4193e-04\n",
      "Epoch 88/100\n",
      "30/30 [==============================] - 0s 12ms/step - loss: 0.0012 - val_loss: 4.4860e-04\n",
      "Epoch 89/100\n",
      "30/30 [==============================] - 0s 12ms/step - loss: 0.0012 - val_loss: 4.9671e-04\n",
      "Epoch 90/100\n",
      "30/30 [==============================] - 0s 12ms/step - loss: 9.9102e-04 - val_loss: 3.7468e-04\n",
      "Epoch 91/100\n",
      "30/30 [==============================] - 0s 12ms/step - loss: 9.4714e-04 - val_loss: 0.0011\n",
      "Epoch 92/100\n",
      "30/30 [==============================] - 0s 12ms/step - loss: 0.0011 - val_loss: 3.7941e-04\n",
      "Epoch 93/100\n",
      "30/30 [==============================] - 0s 12ms/step - loss: 0.0013 - val_loss: 3.6023e-04\n",
      "Epoch 94/100\n",
      "30/30 [==============================] - 0s 13ms/step - loss: 0.0010 - val_loss: 4.7069e-04\n",
      "Epoch 95/100\n",
      "30/30 [==============================] - 0s 12ms/step - loss: 0.0010 - val_loss: 3.9593e-04\n",
      "Epoch 96/100\n",
      "30/30 [==============================] - 0s 12ms/step - loss: 9.6292e-04 - val_loss: 8.6226e-04\n",
      "Epoch 97/100\n",
      "30/30 [==============================] - 0s 12ms/step - loss: 9.3851e-04 - val_loss: 3.4240e-04\n",
      "Epoch 98/100\n",
      "30/30 [==============================] - 0s 12ms/step - loss: 0.0011 - val_loss: 8.9363e-04\n",
      "Epoch 99/100\n",
      "30/30 [==============================] - 0s 13ms/step - loss: 0.0010 - val_loss: 0.0013\n",
      "Epoch 100/100\n",
      "30/30 [==============================] - 0s 12ms/step - loss: 0.0011 - val_loss: 3.3448e-04\n"
     ]
    }
   ],
   "source": [
    "history = regressor.fit(X_train, y_train,validation_data=(X_validation, y_validation), epochs = 100, batch_size = 32)"
   ]
  },
  {
   "cell_type": "code",
   "execution_count": 17,
   "metadata": {},
   "outputs": [
    {
     "data": {
      "image/png": "[encoded data removed]",
      "text/plain": [
       "<Figure size 432x288 with 1 Axes>"
      ]
     },
     "metadata": {
      "needs_background": "light"
     },
     "output_type": "display_data"
    }
   ],
   "source": [
    "plt.plot(history.history['loss'], label='train')\n",
    "plt.plot(history.history['val_loss'], label='test')\n",
    "plt.legend()\n",
    "plt.show()"
   ]
  },
  {
   "cell_type": "markdown",
   "metadata": {},
   "source": [
    "### Making the predictions and visualising the results\n",
    "- Getting the real stock price of 2017"
   ]
  },
  {
   "cell_type": "code",
   "execution_count": 6,
   "metadata": {},
   "outputs": [],
   "source": [
    "dataset_test = pd.read_csv('Google_Stock_Price_Test.csv',index_col=\"Date\",parse_dates=True)\n",
    "dataset = pd.read_csv('dataset.csv',index_col=\"Date\",parse_dates=True)"
   ]
  },
  {
   "cell_type": "code",
   "execution_count": 7,
   "metadata": {},
   "outputs": [],
   "source": [
    "real_stock_price = dataset_test.iloc[:, 1:2].values"
   ]
  },
  {
   "cell_type": "code",
   "execution_count": 8,
   "metadata": {},
   "outputs": [
    {
     "data": {
      "text/html": [
       "<div>\n",
       "<style scoped>\n",
       "    .dataframe tbody tr th:only-of-type {\n",
       "        vertical-align: middle;\n",
       "    }\n",
       "\n",
       "    .dataframe tbody tr th {\n",
       "        vertical-align: top;\n",
       "    }\n",
       "\n",
       "    .dataframe thead th {\n",
       "        text-align: right;\n",
       "    }\n",
       "</style>\n",
       "<table border=\"1\" class=\"dataframe\">\n",
       "  <thead>\n",
       "    <tr style=\"text-align: right;\">\n",
       "      <th></th>\n",
       "      <th>Open</th>\n",
       "      <th>High</th>\n",
       "      <th>Low</th>\n",
       "      <th>Close</th>\n",
       "      <th>Volume</th>\n",
       "    </tr>\n",
       "    <tr>\n",
       "      <th>Date</th>\n",
       "      <th></th>\n",
       "      <th></th>\n",
       "      <th></th>\n",
       "      <th></th>\n",
       "      <th></th>\n",
       "    </tr>\n",
       "  </thead>\n",
       "  <tbody>\n",
       "    <tr>\n",
       "      <th>2017-01-03</th>\n",
       "      <td>778.81</td>\n",
       "      <td>789.63</td>\n",
       "      <td>775.80</td>\n",
       "      <td>786.14</td>\n",
       "      <td>1,657,300</td>\n",
       "    </tr>\n",
       "    <tr>\n",
       "      <th>2017-01-04</th>\n",
       "      <td>788.36</td>\n",
       "      <td>791.34</td>\n",
       "      <td>783.16</td>\n",
       "      <td>786.90</td>\n",
       "      <td>1,073,000</td>\n",
       "    </tr>\n",
       "    <tr>\n",
       "      <th>2017-01-05</th>\n",
       "      <td>786.08</td>\n",
       "      <td>794.48</td>\n",
       "      <td>785.02</td>\n",
       "      <td>794.02</td>\n",
       "      <td>1,335,200</td>\n",
       "    </tr>\n",
       "    <tr>\n",
       "      <th>2017-01-06</th>\n",
       "      <td>795.26</td>\n",
       "      <td>807.90</td>\n",
       "      <td>792.20</td>\n",
       "      <td>806.15</td>\n",
       "      <td>1,640,200</td>\n",
       "    </tr>\n",
       "    <tr>\n",
       "      <th>2017-01-09</th>\n",
       "      <td>806.40</td>\n",
       "      <td>809.97</td>\n",
       "      <td>802.83</td>\n",
       "      <td>806.65</td>\n",
       "      <td>1,272,400</td>\n",
       "    </tr>\n",
       "  </tbody>\n",
       "</table>\n",
       "</div>"
      ],
      "text/plain": [
       "              Open    High     Low   Close     Volume\n",
       "Date                                                 \n",
       "2017-01-03  778.81  789.63  775.80  786.14  1,657,300\n",
       "2017-01-04  788.36  791.34  783.16  786.90  1,073,000\n",
       "2017-01-05  786.08  794.48  785.02  794.02  1,335,200\n",
       "2017-01-06  795.26  807.90  792.20  806.15  1,640,200\n",
       "2017-01-09  806.40  809.97  802.83  806.65  1,272,400"
      ]
     },
     "execution_count": 8,
     "metadata": {},
     "output_type": "execute_result"
    }
   ],
   "source": [
    "dataset_test.head()"
   ]
  },
  {
   "cell_type": "code",
   "execution_count": 9,
   "metadata": {},
   "outputs": [
    {
     "name": "stdout",
     "output_type": "stream",
     "text": [
      "<class 'pandas.core.frame.DataFrame'>\n",
      "DatetimeIndex: 20 entries, 2017-01-03 to 2017-01-31\n",
      "Data columns (total 5 columns):\n",
      " #   Column  Non-Null Count  Dtype  \n",
      "---  ------  --------------  -----  \n",
      " 0   Open    20 non-null     float64\n",
      " 1   High    20 non-null     float64\n",
      " 2   Low     20 non-null     float64\n",
      " 3   Close   20 non-null     float64\n",
      " 4   Volume  20 non-null     object \n",
      "dtypes: float64(4), object(1)\n",
      "memory usage: 960.0+ bytes\n"
     ]
    }
   ],
   "source": [
    "dataset_test.info()"
   ]
  },
  {
   "cell_type": "code",
   "execution_count": 10,
   "metadata": {},
   "outputs": [],
   "source": [
    "dataset_test[\"Volume\"] = dataset_test[\"Volume\"].str.replace(',', '').astype(float)"
   ]
  },
  {
   "cell_type": "code",
   "execution_count": 11,
   "metadata": {},
   "outputs": [],
   "source": [
    "test_set=dataset_test['Open']\n",
    "test_set=pd.DataFrame(test_set)"
   ]
  },
  {
   "cell_type": "code",
   "execution_count": 12,
   "metadata": {},
   "outputs": [
    {
     "data": {
      "text/html": [
       "<div>\n",
       "<style scoped>\n",
       "    .dataframe tbody tr th:only-of-type {\n",
       "        vertical-align: middle;\n",
       "    }\n",
       "\n",
       "    .dataframe tbody tr th {\n",
       "        vertical-align: top;\n",
       "    }\n",
       "\n",
       "    .dataframe thead th {\n",
       "        text-align: right;\n",
       "    }\n",
       "</style>\n",
       "<table border=\"1\" class=\"dataframe\">\n",
       "  <thead>\n",
       "    <tr style=\"text-align: right;\">\n",
       "      <th></th>\n",
       "      <th>Open</th>\n",
       "    </tr>\n",
       "    <tr>\n",
       "      <th>Date</th>\n",
       "      <th></th>\n",
       "    </tr>\n",
       "  </thead>\n",
       "  <tbody>\n",
       "    <tr>\n",
       "      <th>2017-01-03</th>\n",
       "      <td>778.81</td>\n",
       "    </tr>\n",
       "    <tr>\n",
       "      <th>2017-01-04</th>\n",
       "      <td>788.36</td>\n",
       "    </tr>\n",
       "    <tr>\n",
       "      <th>2017-01-05</th>\n",
       "      <td>786.08</td>\n",
       "    </tr>\n",
       "    <tr>\n",
       "      <th>2017-01-06</th>\n",
       "      <td>795.26</td>\n",
       "    </tr>\n",
       "    <tr>\n",
       "      <th>2017-01-09</th>\n",
       "      <td>806.40</td>\n",
       "    </tr>\n",
       "  </tbody>\n",
       "</table>\n",
       "</div>"
      ],
      "text/plain": [
       "              Open\n",
       "Date              \n",
       "2017-01-03  778.81\n",
       "2017-01-04  788.36\n",
       "2017-01-05  786.08\n",
       "2017-01-06  795.26\n",
       "2017-01-09  806.40"
      ]
     },
     "execution_count": 12,
     "metadata": {},
     "output_type": "execute_result"
    }
   ],
   "source": [
    "test_set.head()"
   ]
  },
  {
   "cell_type": "code",
   "execution_count": 13,
   "metadata": {},
   "outputs": [
    {
     "name": "stdout",
     "output_type": "stream",
     "text": [
      "<class 'pandas.core.frame.DataFrame'>\n",
      "DatetimeIndex: 20 entries, 2017-01-03 to 2017-01-31\n",
      "Data columns (total 1 columns):\n",
      " #   Column  Non-Null Count  Dtype  \n",
      "---  ------  --------------  -----  \n",
      " 0   Open    20 non-null     float64\n",
      "dtypes: float64(1)\n",
      "memory usage: 320.0 bytes\n"
     ]
    }
   ],
   "source": [
    "test_set.info()"
   ]
  },
  {
   "cell_type": "markdown",
   "metadata": {},
   "source": [
    "### Getting the predicted stock price of 2017"
   ]
  },
  {
   "cell_type": "code",
   "execution_count": 14,
   "metadata": {},
   "outputs": [
    {
     "name": "stdout",
     "output_type": "stream",
     "text": [
      "(940, 60, 1) (940,) (198, 60, 1) (198,) (20, 60, 1) (20,)\n"
     ]
    }
   ],
   "source": [
    "dataset_total = pd.concat((dataset['Open'], dataset_test['Open']), axis = 0)\n",
    "inputs = dataset_total[len(dataset_total) - len(dataset_test) - 60:].values\n",
    "inputs = inputs.reshape(-1,1)\n",
    "inputs = sc.transform(inputs)\n",
    "X_test = []\n",
    "y_test = []\n",
    "for i in range(60, 80):\n",
    "    X_test.append(inputs[i-60:i, 0])\n",
    "    y_test.append(inputs[i, 0])\n",
    "X_test = np.array(X_test)\n",
    "X_test = np.reshape(X_test, (X_test.shape[0], X_test.shape[1], 1))\n",
    "y_test = np.array(y_test)\n",
    "\n",
    "\n",
    "print(X_train.shape, y_train.shape, X_validation.shape, y_validation.shape, X_test.shape, y_test.shape)"
   ]
  },
  {
   "cell_type": "code",
   "execution_count": 18,
   "metadata": {},
   "outputs": [],
   "source": [
    "predicted_stock_price = regressor.predict(X_test)\n",
    "\n",
    "predicted_stock_price = sc.inverse_transform(predicted_stock_price)"
   ]
  },
  {
   "cell_type": "code",
   "execution_count": 19,
   "metadata": {},
   "outputs": [
    {
     "name": "stdout",
     "output_type": "stream",
     "text": [
      "<class 'pandas.core.frame.DataFrame'>\n",
      "RangeIndex: 20 entries, 0 to 19\n",
      "Data columns (total 1 columns):\n",
      " #   Column  Non-Null Count  Dtype  \n",
      "---  ------  --------------  -----  \n",
      " 0   0       20 non-null     float32\n",
      "dtypes: float32(1)\n",
      "memory usage: 208.0 bytes\n"
     ]
    }
   ],
   "source": [
    "predicted_stock_price=pd.DataFrame(predicted_stock_price)\n",
    "predicted_stock_price.info()"
   ]
  },
  {
   "cell_type": "markdown",
   "metadata": {},
   "source": [
    "### Visualising the results"
   ]
  },
  {
   "cell_type": "code",
   "execution_count": 20,
   "metadata": {},
   "outputs": [
    {
     "data": {
      "image/png": "[encoded data removed]",
      "text/plain": [
       "<Figure size 432x288 with 1 Axes>"
      ]
     },
     "metadata": {
      "needs_background": "light"
     },
     "output_type": "display_data"
    }
   ],
   "source": [
    "plt.plot(real_stock_price, color = 'red', label = 'Real Google Stock Price')\n",
    "plt.plot(predicted_stock_price, color = 'blue', label = 'Predicted Google Stock Price')\n",
    "plt.title('Google Stock Price Prediction')\n",
    "plt.xlabel('Time')\n",
    "plt.ylabel('Google Stock Price')\n",
    "plt.legend()\n",
    "plt.show()"
   ]
  },
  {
   "cell_type": "code",
   "execution_count": null,
   "metadata": {},
   "outputs": [],
   "source": []
  }
 ],
 "metadata": {
  "kernelspec": {
   "display_name": "Python 3",
   "language": "python",
   "name": "python3"
  },
  "language_info": {
   "codemirror_mode": {
    "name": "ipython",
    "version": 3
   },
   "file_extension": ".py",
   "mimetype": "text/x-python",
   "name": "python",
   "nbconvert_exporter": "python",
   "pygments_lexer": "ipython3",
   "version": "3.8.6"
  }
 },
 "nbformat": 4,
 "nbformat_minor": 4
}
